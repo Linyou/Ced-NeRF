{
 "cells": [
  {
   "cell_type": "code",
   "execution_count": 2,
   "id": "c7b71798-06d1-433c-bf3c-3287e69ed279",
   "metadata": {},
   "outputs": [],
   "source": [
    "from datasets.dnerf_3d_video_IS import _load_data_from_json\n",
    "from datasets.dnerf_3d_video_IS import dynerf_isg_weight\n",
    "from datasets.dnerf_3d_video_IS import dynerf_ist_weight_nice\n",
    "import os\n",
    "import time\n",
    "import torch"
   ]
  },
  {
   "cell_type": "code",
   "execution_count": 3,
   "id": "ba27ccb6-f5bd-456d-b937-8e65f3edf1cb",
   "metadata": {},
   "outputs": [],
   "source": [
    "root_fp = '/home/loyot/workspace/SSD_1T/Datasets/NeRF/3d_vedio_datasets'\n",
    "subject_id = 'flame_salmon_1'\n",
    "split = 'train'\n",
    "read_image = True\n",
    "factor = 4\n",
    "basedir = os.path.join(root_fp, subject_id)"
   ]
  },
  {
   "cell_type": "code",
   "execution_count": 3,
   "id": "d0e41461-b9cc-4e24-91ad-708b0a65b903",
   "metadata": {},
   "outputs": [
    {
     "name": "stdout",
     "output_type": "stream",
     "text": [
      "poses shape:  (19, 3, 4)\n",
      "loading video:\n"
     ]
    },
    {
     "name": "stderr",
     "output_type": "stream",
     "text": [
      "flame_salmon_1-cam01:   0%|          | 0/300 [00:00<?, ?it/s]"
     ]
    },
    {
     "name": "stderr",
     "output_type": "stream",
     "text": [
      "flame_salmon_1-cam20: 100%|██████████| 300/300 [00:02<00:00, 126.18it/s]\n"
     ]
    }
   ],
   "source": [
    "(\n",
    "    images,\n",
    "    poses,\n",
    "    timestamps,\n",
    "    bounds,\n",
    "    images_per_video,\n",
    "    num_cameras,\n",
    "    instrinc,\n",
    "    render_poses,\n",
    "    median_imgs,\n",
    ") = _load_data_from_json(\n",
    "    root_fp, \n",
    "    subject_id, \n",
    "    factor=factor, \n",
    "    split=split, \n",
    "    read_img=read_image,\n",
    "    load_every=1 if split == \"train\" else 10,\n",
    ")"
   ]
  },
  {
   "cell_type": "code",
   "execution_count": 4,
   "id": "f9b1db04-b67d-4dc3-b7dd-2bad39fef950",
   "metadata": {},
   "outputs": [],
   "source": [
    "num_images = images.shape[0]\n",
    "height = images.shape[1]\n",
    "width = images.shape[2]\n",
    "keyframes = False"
   ]
  },
  {
   "cell_type": "code",
   "execution_count": 5,
   "id": "9387de91-ec73-44a6-a11b-c2d87b74400f",
   "metadata": {},
   "outputs": [
    {
     "name": "stdout",
     "output_type": "stream",
     "text": [
      "507 676\n"
     ]
    }
   ],
   "source": [
    "print(height, width)"
   ]
  },
  {
   "cell_type": "code",
   "execution_count": 8,
   "id": "2c937acb-b81a-4f14-8d01-777680f3f0ef",
   "metadata": {},
   "outputs": [
    {
     "data": {
      "text/plain": [
       "342732"
      ]
     },
     "execution_count": 8,
     "metadata": {},
     "output_type": "execute_result"
    }
   ],
   "source": [
    "images.shape[1] * images.shape[2] "
   ]
  },
  {
   "cell_type": "code",
   "execution_count": 1,
   "id": "f015ee8c-2de6-4aff-81fc-46bd21964dc3",
   "metadata": {},
   "outputs": [
    {
     "ename": "NameError",
     "evalue": "name 'time' is not defined",
     "output_type": "error",
     "traceback": [
      "\u001b[0;31m---------------------------------------------------------------------------\u001b[0m",
      "\u001b[0;31mNameError\u001b[0m                                 Traceback (most recent call last)",
      "Cell \u001b[0;32mIn[1], line 2\u001b[0m\n\u001b[1;32m      1\u001b[0m \u001b[38;5;66;03m# Precompute ISG weights\u001b[39;00m\n\u001b[0;32m----> 2\u001b[0m t_s \u001b[38;5;241m=\u001b[39m \u001b[43mtime\u001b[49m\u001b[38;5;241m.\u001b[39mtime()\n\u001b[1;32m      3\u001b[0m gamma \u001b[38;5;241m=\u001b[39m \u001b[38;5;241m1e-3\u001b[39m \u001b[38;5;28;01mif\u001b[39;00m keyframes \u001b[38;5;28;01melse\u001b[39;00m \u001b[38;5;241m2e-2\u001b[39m\n\u001b[1;32m      4\u001b[0m isg_weights \u001b[38;5;241m=\u001b[39m dynerf_isg_weight(\n\u001b[1;32m      5\u001b[0m     images\u001b[38;5;241m.\u001b[39mview(\u001b[38;5;241m-\u001b[39m\u001b[38;5;241m1\u001b[39m, height, width, images\u001b[38;5;241m.\u001b[39mshape[\u001b[38;5;241m-\u001b[39m\u001b[38;5;241m1\u001b[39m]),\n\u001b[1;32m      6\u001b[0m     median_imgs\u001b[38;5;241m=\u001b[39mmedian_imgs, gamma\u001b[38;5;241m=\u001b[39mgamma)\n",
      "\u001b[0;31mNameError\u001b[0m: name 'time' is not defined"
     ]
    }
   ],
   "source": [
    "# Precompute ISG weights\n",
    "t_s = time.time()\n",
    "gamma = 1e-3 if keyframes else 2e-2\n",
    "isg_weights = dynerf_isg_weight(\n",
    "    images.view(-1, height, width, images.shape[-1]),\n",
    "    median_imgs=median_imgs, gamma=gamma)\n",
    "# Normalize into a probability distribution, to speed up sampling\n",
    "isg_weights = (isg_weights.reshape(-1) / torch.sum(isg_weights))\n",
    "torch.save(isg_weights, os.path.join(basedir, f\"isg_weights.pt\"))\n",
    "t_e = time.time()\n",
    "print(f\"Computed {isg_weights.shape[0]} ISG weights in {t_e - t_s:.2f}s.\")"
   ]
  },
  {
   "cell_type": "code",
   "execution_count": 7,
   "id": "611cc221-0bc3-4c44-a00e-187dc0d745a9",
   "metadata": {},
   "outputs": [
    {
     "name": "stderr",
     "output_type": "stream",
     "text": [
      "100%|██████████| 18/18 [05:08<00:00, 17.13s/it]\n"
     ]
    },
    {
     "name": "stdout",
     "output_type": "stream",
     "text": [
      "Computed 1850752800 IST weights in 315.41s.\n"
     ]
    }
   ],
   "source": [
    "# Precompute IST weights\n",
    "t_s = time.time()\n",
    "ist_weights = dynerf_ist_weight_nice(\n",
    "    images.view(-1, height, width, images.shape[-1]),\n",
    "    num_cameras=median_imgs.shape[0])\n",
    "# Normalize into a probability distribution, to speed up sampling\n",
    "ist_weights = (ist_weights.reshape(-1) / torch.sum(ist_weights))\n",
    "torch.save(ist_weights, os.path.join(basedir, f\"ist_weights.pt\"))\n",
    "t_e = time.time()\n",
    "print(f\"Computed {ist_weights.shape[0]} IST weights in {t_e - t_s:.2f}s.\")"
   ]
  },
  {
   "cell_type": "code",
   "execution_count": 8,
   "id": "2025de16-c1c7-4aad-8101-73407a13f839",
   "metadata": {},
   "outputs": [
    {
     "data": {
      "text/plain": [
       "torch.Size([1850752800])"
      ]
     },
     "execution_count": 8,
     "metadata": {},
     "output_type": "execute_result"
    }
   ],
   "source": [
    "ist_weights.shape"
   ]
  },
  {
   "cell_type": "code",
   "execution_count": 3,
   "id": "81d112ba-d646-4607-aaa1-b91c1c9326b1",
   "metadata": {},
   "outputs": [],
   "source": [
    "from datasets.dnerf_3d_video_IS import SubjectLoader\n",
    "\n",
    "# training parameters\n",
    "max_steps = 40000\n",
    "init_batch_size = 2048\n",
    "target_sample_batch_size = 1 << 18\n",
    "weight_decay = 0.0\n",
    "# scene parameters\n",
    "aabb = torch.tensor([-1.0, -1.0, -1.0, 1.0, 1.0, 1.0])\n",
    "near_plane = 0.2\n",
    "far_plane = 1.0e10\n",
    "# dataset parameters\n",
    "train_dataset_kwargs = {\"color_bkgd_aug\": \"random\", \"factor\": 2}\n",
    "test_dataset_kwargs = {\"color_bkgd_aug\": \"black\", \"factor\": 2}\n",
    "\n",
    "grid_nlvl = 4\n",
    "# model parameters\n",
    "moving_step = 1/(2048*grid_nlvl)\n",
    "hash_dst_resolution = 2048*grid_nlvl\n",
    "grid_resolution = 128\n",
    "# render parameters\n",
    "render_step_size = 1e-3\n",
    "alpha_thre = 1e-2\n",
    "cone_angle = 0.004\n",
    "milestones=[\n",
    "    max_steps // 2,\n",
    "    max_steps * 3 // 4,\n",
    "    max_steps * 5 // 6,\n",
    "    max_steps * 9 // 10,\n",
    "]\n",
    "lr = 1e-2"
   ]
  },
  {
   "cell_type": "code",
   "execution_count": 4,
   "id": "be6eaecb",
   "metadata": {},
   "outputs": [
    {
     "name": "stdout",
     "output_type": "stream",
     "text": [
      "poses shape:  (19, 3, 4)\n",
      "loading video:\n"
     ]
    },
    {
     "name": "stderr",
     "output_type": "stream",
     "text": [
      "flame_salmon_1-cam01:   0%|          | 0/300 [00:00<?, ?it/s]"
     ]
    },
    {
     "name": "stderr",
     "output_type": "stream",
     "text": [
      "flame_salmon_1-cam20: 100%|██████████| 300/300 [00:09<00:00, 33.08it/s]\n"
     ]
    },
    {
     "name": "stdout",
     "output_type": "stream",
     "text": [
      "Reloaded 1850752800 ISG weights from file.\n",
      "Reloaded 1850752800 IST weights from file.\n",
      "render_poses:  torch.Size([300, 3, 4])\n",
      "tensor([[-9.7229e-01,  1.0622e-03,  2.3377e-01, -4.2146e-01],\n",
      "        [-1.0925e-03, -1.0000e+00,  1.8674e-18, -3.3667e-18],\n",
      "        [-2.3377e-01,  2.5539e-04, -9.7229e-01,  1.5000e+00]])\n",
      "showing a pose: \n",
      "[[ 0.8013   -0.03558  -0.597     0.728   ]\n",
      " [-0.05246  -0.9985   -0.010925  0.1616  ]\n",
      " [-0.5957    0.04007  -0.8022    1.323   ]]\n"
     ]
    }
   ],
   "source": [
    "train_dataset = SubjectLoader(\n",
    "    subject_id=\"flame_salmon_1\",\n",
    "    root_fp=\"/home/loyot/workspace/SSD_1T/Datasets/NeRF/3d_vedio_datasets\",\n",
    "    split=\"train\",\n",
    "    num_rays=init_batch_size,\n",
    "    **train_dataset_kwargs,\n",
    ")"
   ]
  },
  {
   "cell_type": "code",
   "execution_count": 15,
   "id": "2614c0aa",
   "metadata": {},
   "outputs": [],
   "source": [
    "for i in range(len(train_dataset)):\n",
    "    train_dataset[i]"
   ]
  },
  {
   "cell_type": "code",
   "execution_count": null,
   "id": "183f8912",
   "metadata": {},
   "outputs": [],
   "source": []
  }
 ],
 "metadata": {
  "kernelspec": {
   "display_name": "torch2",
   "language": "python",
   "name": "python3"
  },
  "language_info": {
   "codemirror_mode": {
    "name": "ipython",
    "version": 3
   },
   "file_extension": ".py",
   "mimetype": "text/x-python",
   "name": "python",
   "nbconvert_exporter": "python",
   "pygments_lexer": "ipython3",
   "version": "3.10.9"
  }
 },
 "nbformat": 4,
 "nbformat_minor": 5
}
