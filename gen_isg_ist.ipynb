{
 "cells": [
  {
   "cell_type": "code",
   "execution_count": 1,
   "id": "c7b71798-06d1-433c-bf3c-3287e69ed279",
   "metadata": {},
   "outputs": [],
   "source": [
    "from datasets.dnerf_3d_video import _load_data_from_json\n",
    "from datasets.dnerf_3d_video import dynerf_isg_weight\n",
    "from datasets.dnerf_3d_video import dynerf_ist_weight_nice\n",
    "import os\n",
    "import time\n",
    "import torch"
   ]
  },
  {
   "cell_type": "code",
   "execution_count": 2,
   "id": "ba27ccb6-f5bd-456d-b937-8e65f3edf1cb",
   "metadata": {},
   "outputs": [],
   "source": [
    "root_fp = '/home/loyot/workspace/SSD_1T/Datasets/NeRF/3d_vedio_datasets'\n",
    "subject_id = 'flame_salmon_1'\n",
    "split = 'train'\n",
    "read_image = True\n",
    "factor = 4\n",
    "basedir = os.path.join(root_fp, subject_id)"
   ]
  },
  {
   "cell_type": "code",
   "execution_count": 3,
   "id": "d0e41461-b9cc-4e24-91ad-708b0a65b903",
   "metadata": {},
   "outputs": [
    {
     "name": "stdout",
     "output_type": "stream",
     "text": [
      "poses shape:  (19, 3, 4)\n",
      "loading video:\n"
     ]
    },
    {
     "name": "stderr",
     "output_type": "stream",
     "text": [
      "flame_salmon_1-cam20: 100%|██████████| 300/300 [00:02<00:00, 103.20it/s]\n"
     ]
    }
   ],
   "source": [
    "(\n",
    "    images,\n",
    "    poses,\n",
    "    timestamps,\n",
    "    bounds,\n",
    "    images_per_video,\n",
    "    num_cameras,\n",
    "    instrinc,\n",
    "    render_poses,\n",
    "    median_imgs,\n",
    ") = _load_data_from_json(root_fp, subject_id, factor=factor, split=split, read_img=read_image)"
   ]
  },
  {
   "cell_type": "code",
   "execution_count": 4,
   "id": "f9b1db04-b67d-4dc3-b7dd-2bad39fef950",
   "metadata": {},
   "outputs": [],
   "source": [
    "num_images = images.shape[0]\n",
    "height = images.shape[1]\n",
    "width = images.shape[2]\n",
    "keyframes = False"
   ]
  },
  {
   "cell_type": "code",
   "execution_count": 5,
   "id": "9387de91-ec73-44a6-a11b-c2d87b74400f",
   "metadata": {},
   "outputs": [
    {
     "name": "stdout",
     "output_type": "stream",
     "text": [
      "507 676\n"
     ]
    }
   ],
   "source": [
    "print(height, width)"
   ]
  },
  {
   "cell_type": "code",
   "execution_count": 6,
   "id": "2c937acb-b81a-4f14-8d01-777680f3f0ef",
   "metadata": {},
   "outputs": [
    {
     "data": {
      "text/plain": [
       "1850752800"
      ]
     },
     "execution_count": 6,
     "metadata": {},
     "output_type": "execute_result"
    }
   ],
   "source": [
    "images.shape[0] * images.shape[1] * images.shape[2] "
   ]
  },
  {
   "cell_type": "code",
   "execution_count": 1,
   "id": "f015ee8c-2de6-4aff-81fc-46bd21964dc3",
   "metadata": {},
   "outputs": [
    {
     "ename": "NameError",
     "evalue": "name 'time' is not defined",
     "output_type": "error",
     "traceback": [
      "\u001b[0;31m---------------------------------------------------------------------------\u001b[0m",
      "\u001b[0;31mNameError\u001b[0m                                 Traceback (most recent call last)",
      "Cell \u001b[0;32mIn[1], line 2\u001b[0m\n\u001b[1;32m      1\u001b[0m \u001b[38;5;66;03m# Precompute ISG weights\u001b[39;00m\n\u001b[0;32m----> 2\u001b[0m t_s \u001b[38;5;241m=\u001b[39m \u001b[43mtime\u001b[49m\u001b[38;5;241m.\u001b[39mtime()\n\u001b[1;32m      3\u001b[0m gamma \u001b[38;5;241m=\u001b[39m \u001b[38;5;241m1e-3\u001b[39m \u001b[38;5;28;01mif\u001b[39;00m keyframes \u001b[38;5;28;01melse\u001b[39;00m \u001b[38;5;241m2e-2\u001b[39m\n\u001b[1;32m      4\u001b[0m isg_weights \u001b[38;5;241m=\u001b[39m dynerf_isg_weight(\n\u001b[1;32m      5\u001b[0m     images\u001b[38;5;241m.\u001b[39mview(\u001b[38;5;241m-\u001b[39m\u001b[38;5;241m1\u001b[39m, height, width, images\u001b[38;5;241m.\u001b[39mshape[\u001b[38;5;241m-\u001b[39m\u001b[38;5;241m1\u001b[39m]),\n\u001b[1;32m      6\u001b[0m     median_imgs\u001b[38;5;241m=\u001b[39mmedian_imgs, gamma\u001b[38;5;241m=\u001b[39mgamma)\n",
      "\u001b[0;31mNameError\u001b[0m: name 'time' is not defined"
     ]
    }
   ],
   "source": [
    "# Precompute ISG weights\n",
    "t_s = time.time()\n",
    "gamma = 1e-3 if keyframes else 2e-2\n",
    "isg_weights = dynerf_isg_weight(\n",
    "    images.view(-1, height, width, images.shape[-1]),\n",
    "    median_imgs=median_imgs, gamma=gamma)\n",
    "# Normalize into a probability distribution, to speed up sampling\n",
    "isg_weights = (isg_weights.reshape(-1) / torch.sum(isg_weights))\n",
    "torch.save(isg_weights, os.path.join(basedir, f\"isg_weights.pt\"))\n",
    "t_e = time.time()\n",
    "print(f\"Computed {isg_weights.shape[0]} ISG weights in {t_e - t_s:.2f}s.\")"
   ]
  },
  {
   "cell_type": "code",
   "execution_count": 7,
   "id": "611cc221-0bc3-4c44-a00e-187dc0d745a9",
   "metadata": {},
   "outputs": [
    {
     "name": "stderr",
     "output_type": "stream",
     "text": [
      "100%|██████████| 18/18 [05:08<00:00, 17.13s/it]\n"
     ]
    },
    {
     "name": "stdout",
     "output_type": "stream",
     "text": [
      "Computed 1850752800 IST weights in 315.41s.\n"
     ]
    }
   ],
   "source": [
    "# Precompute IST weights\n",
    "t_s = time.time()\n",
    "ist_weights = dynerf_ist_weight_nice(\n",
    "    images.view(-1, height, width, images.shape[-1]),\n",
    "    num_cameras=median_imgs.shape[0])\n",
    "# Normalize into a probability distribution, to speed up sampling\n",
    "ist_weights = (ist_weights.reshape(-1) / torch.sum(ist_weights))\n",
    "torch.save(ist_weights, os.path.join(basedir, f\"ist_weights.pt\"))\n",
    "t_e = time.time()\n",
    "print(f\"Computed {ist_weights.shape[0]} IST weights in {t_e - t_s:.2f}s.\")"
   ]
  },
  {
   "cell_type": "code",
   "execution_count": 8,
   "id": "2025de16-c1c7-4aad-8101-73407a13f839",
   "metadata": {},
   "outputs": [
    {
     "data": {
      "text/plain": [
       "torch.Size([1850752800])"
      ]
     },
     "execution_count": 8,
     "metadata": {},
     "output_type": "execute_result"
    }
   ],
   "source": [
    "ist_weights.shape"
   ]
  },
  {
   "cell_type": "code",
   "execution_count": null,
   "id": "44685178-2970-43e5-84b6-e394812799f2",
   "metadata": {},
   "outputs": [],
   "source": [
    "if split == \"train\" and dset_type == 'llff':  # Only use importance sampling with DyNeRF videos\n",
    "    if os.path.exists(os.path.join(datadir, f\"isg_weights.pt\")):\n",
    "        self.isg_weights = torch.load(os.path.join(datadir, f\"isg_weights.pt\"))\n",
    "        log.info(f\"Reloaded {self.isg_weights.shape[0]} ISG weights from file.\")\n",
    "    else:\n",
    "        # Precompute ISG weights\n",
    "        t_s = time.time()\n",
    "        gamma = 1e-3 if self.keyframes else 2e-2\n",
    "        self.isg_weights = dynerf_isg_weight(\n",
    "            imgs.view(-1, intrinsics.height, intrinsics.width, imgs.shape[-1]),\n",
    "            median_imgs=self.median_imgs, gamma=gamma)\n",
    "        # Normalize into a probability distribution, to speed up sampling\n",
    "        self.isg_weights = (self.isg_weights.reshape(-1) / torch.sum(self.isg_weights))\n",
    "        torch.save(self.isg_weights, os.path.join(datadir, f\"isg_weights.pt\"))\n",
    "        t_e = time.time()\n",
    "        log.info(f\"Computed {self.isg_weights.shape[0]} ISG weights in {t_e - t_s:.2f}s.\")\n",
    "\n",
    "    if os.path.exists(os.path.join(datadir, f\"ist_weights.pt\")):\n",
    "        self.ist_weights = torch.load(os.path.join(datadir, f\"ist_weights.pt\"))\n",
    "        log.info(f\"Reloaded {self.ist_weights.shape[0]} IST weights from file.\")\n",
    "    else:\n",
    "        # Precompute IST weights\n",
    "        t_s = time.time()\n",
    "        self.ist_weights = dynerf_ist_weight(\n",
    "            imgs.view(-1, self.img_h, self.img_w, imgs.shape[-1]),\n",
    "            num_cameras=self.median_imgs.shape[0])\n",
    "        # Normalize into a probability distribution, to speed up sampling\n",
    "        self.ist_weights = (self.ist_weights.reshape(-1) / torch.sum(self.ist_weights))\n",
    "        torch.save(self.ist_weights, os.path.join(datadir, f\"ist_weights.pt\"))\n",
    "        t_e = time.time()\n",
    "        log.info(f\"Computed {self.ist_weights.shape[0]} IST weights in {t_e - t_s:.2f}s.\")\n"
   ]
  },
  {
   "cell_type": "code",
   "execution_count": null,
   "id": "81d112ba-d646-4607-aaa1-b91c1c9326b1",
   "metadata": {},
   "outputs": [],
   "source": []
  }
 ],
 "metadata": {
  "kernelspec": {
   "display_name": "Python [conda env:torch2]",
   "language": "python",
   "name": "conda-env-torch2-py"
  },
  "language_info": {
   "codemirror_mode": {
    "name": "ipython",
    "version": 3
   },
   "file_extension": ".py",
   "mimetype": "text/x-python",
   "name": "python",
   "nbconvert_exporter": "python",
   "pygments_lexer": "ipython3",
   "version": "3.9.16"
  }
 },
 "nbformat": 4,
 "nbformat_minor": 5
}
